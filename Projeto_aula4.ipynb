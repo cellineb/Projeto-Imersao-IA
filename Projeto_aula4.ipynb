{
  "nbformat": 4,
  "nbformat_minor": 0,
  "metadata": {
    "colab": {
      "provenance": [],
      "authorship_tag": "ABX9TyNukvesDCFnMTWy93la9sAh",
      "include_colab_link": true
    },
    "kernelspec": {
      "name": "python3",
      "display_name": "Python 3"
    },
    "language_info": {
      "name": "python"
    }
  },
  "cells": [
    {
      "cell_type": "markdown",
      "metadata": {
        "id": "view-in-github",
        "colab_type": "text"
      },
      "source": [
        "<a href=\"https://colab.research.google.com/github/cellineb/Projeto-Imersao-IA/blob/main/Projeto_aula4.ipynb\" target=\"_parent\"><img src=\"https://colab.research.google.com/assets/colab-badge.svg\" alt=\"Open In Colab\"/></a>"
      ]
    },
    {
      "cell_type": "markdown",
      "source": [
        "Instalando o SDK do google"
      ],
      "metadata": {
        "id": "1ySviBaMPeJu"
      }
    },
    {
      "cell_type": "code",
      "execution_count": null,
      "metadata": {
        "id": "5gqPnkdtPO1o"
      },
      "outputs": [],
      "source": [
        "!pip install -q -U google-generativeai"
      ]
    },
    {
      "cell_type": "code",
      "source": [
        "# Import the Python SDK\n",
        "import google.generativeai as genai\n",
        "# Used to securely store your API key\n",
        "from google.colab import userdata\n",
        "api_key = userdata.get('SECRET_KEY')\n",
        "genai.configure(api_key=api_key)"
      ],
      "metadata": {
        "id": "J5tUWjr_P0Wt"
      },
      "execution_count": null,
      "outputs": []
    },
    {
      "cell_type": "markdown",
      "source": [
        "Listar os modelos disponíveis"
      ],
      "metadata": {
        "id": "za1frzmzQHyN"
      }
    },
    {
      "cell_type": "code",
      "source": [
        "for m in genai.list_models():\n",
        "  if 'generateContent' in m.supported_generation_methods:\n",
        "    print(m.name)"
      ],
      "metadata": {
        "colab": {
          "base_uri": "https://localhost:8080/",
          "height": 138
        },
        "id": "YGor0_VxQAn3",
        "outputId": "d529f330-53c1-4ace-d920-25d827543526"
      },
      "execution_count": null,
      "outputs": [
        {
          "output_type": "stream",
          "name": "stdout",
          "text": [
            "models/gemini-1.0-pro\n",
            "models/gemini-1.0-pro-001\n",
            "models/gemini-1.0-pro-latest\n",
            "models/gemini-1.0-pro-vision-latest\n",
            "models/gemini-1.5-pro-latest\n",
            "models/gemini-pro\n",
            "models/gemini-pro-vision\n"
          ]
        }
      ]
    },
    {
      "cell_type": "code",
      "source": [
        "generation_config = {\n",
        "    \"candidate_count\": 1,\n",
        "    \"temperature\": 0.5,\n",
        "}"
      ],
      "metadata": {
        "id": "25LP89hKRrxM"
      },
      "execution_count": null,
      "outputs": []
    },
    {
      "cell_type": "code",
      "source": [
        "safety_settings = {\n",
        "    \"HARASSMENT\": \"BLOCK_NONE\",\n",
        "    \"HATE\": \"BLOCK_NONE\",\n",
        "    \"SEXUAL\": \"BLOCK_NONE\",\n",
        "    \"DANGEROUS\": \"BLOCK_NONE\",\n",
        "}"
      ],
      "metadata": {
        "id": "msx2XHzdSH92"
      },
      "execution_count": null,
      "outputs": []
    },
    {
      "cell_type": "markdown",
      "source": [
        "Inicializando o modelo"
      ],
      "metadata": {
        "id": "KDsEV-OETVZy"
      }
    },
    {
      "cell_type": "code",
      "source": [
        "model = genai.GenerativeModel(model_name=\"gemini-1.0-pro\",\n",
        "                              generation_config=generation_config,\n",
        "                              safety_settings=safety_settings,)"
      ],
      "metadata": {
        "id": "Y5Ol5LgFTXn2"
      },
      "execution_count": null,
      "outputs": []
    },
    {
      "cell_type": "code",
      "source": [
        "response = model.generate_content(\"Me explique sobre a API Key do gemini.\")\n",
        "print(response.text)"
      ],
      "metadata": {
        "colab": {
          "base_uri": "https://localhost:8080/",
          "height": 748
        },
        "id": "ylIpsVt3UhP6",
        "outputId": "5ef7b5b3-b000-4fac-a82e-cff7dfbe27f7"
      },
      "execution_count": null,
      "outputs": [
        {
          "output_type": "stream",
          "name": "stdout",
          "text": [
            "**O que é uma API Key do Gemini?**\n",
            "\n",
            "Uma API Key (chave de API) do Gemini é uma sequência exclusiva de caracteres que permite que aplicativos de terceiros interajam com a conta do Gemini do usuário. Ela fornece acesso programático a recursos específicos da conta, como negociação, gerenciamento de ordens e retirada de fundos.\n",
            "\n",
            "**Tipos de API Keys do Gemini**\n",
            "\n",
            "O Gemini oferece dois tipos de API Keys:\n",
            "\n",
            "* **Chave de API apenas para leitura:** Permite que aplicativos de terceiros leiam dados da conta do usuário, como saldos, histórico de negociações e ordens abertas.\n",
            "* **Chave de API com permissão de negociação:** Permite que aplicativos de terceiros façam negociações, gerenciem ordens e retirem fundos em nome do usuário.\n",
            "\n",
            "**Como criar uma API Key do Gemini**\n",
            "\n",
            "Para criar uma API Key do Gemini:\n",
            "\n",
            "1. Faça login em sua conta do Gemini.\n",
            "2. Clique em \"Configurações\" no canto superior direito.\n",
            "3. Selecione \"API Keys\" no menu à esquerda.\n",
            "4. Clique no botão \"Criar uma nova chave de API\".\n",
            "5. Selecione o tipo de chave de API que deseja criar.\n",
            "6. Digite um nome exclusivo para a chave de API.\n",
            "7. Clique no botão \"Criar chave de API\".\n",
            "8. Anote a chave de API e a chave secreta fornecidas.\n",
            "\n",
            "**Segurança da API Key do Gemini**\n",
            "\n",
            "É crucial manter a segurança da sua API Key do Gemini. Aqui estão algumas dicas:\n",
            "\n",
            "* Mantenha sua chave de API e chave secreta confidenciais.\n",
            "* Use uma senha forte para sua conta do Gemini.\n",
            "* Habilite a autenticação de dois fatores (2FA) para sua conta.\n",
            "* Monitore regularmente a atividade da sua conta e cancele imediatamente quaisquer chaves de API comprometidas.\n",
            "\n",
            "**Usos da API Key do Gemini**\n",
            "\n",
            "As API Keys do Gemini podem ser usadas para uma variedade de propósitos, incluindo:\n",
            "\n",
            "* Conectar-se a plataformas de negociação automatizadas\n",
            "* Desenvolver aplicativos personalizados para gerenciamento de conta\n",
            "* Integrar o Gemini com outros serviços financeiros\n",
            "* Realizar pesquisas e análises de dados de mercado\n"
          ]
        }
      ]
    },
    {
      "cell_type": "code",
      "source": [
        "chat = model.start_chat(history=[])"
      ],
      "metadata": {
        "id": "LsSC3JCRU3cr"
      },
      "execution_count": null,
      "outputs": []
    },
    {
      "cell_type": "code",
      "source": [
        "prompt = input(\"Esperando prompt: \")\n",
        "\n",
        "while prompt != \"fim\":\n",
        "  response = chat.send_message(prompt)\n",
        "  print(\"Resposta: \", response.text, \"\\n\")\n",
        "  prompt = input(\"Esperando prompt: \")"
      ],
      "metadata": {
        "colab": {
          "base_uri": "https://localhost:8080/",
          "height": 263
        },
        "id": "Tl6hG7WSVNbx",
        "outputId": "45e06ca2-952d-48ed-c5d3-1f17114a0c74"
      },
      "execution_count": null,
      "outputs": [
        {
          "name": "stdout",
          "output_type": "stream",
          "text": [
            "Esperando prompt: oi\n",
            "Resposta:  Olá, como posso ajudá-lo hoje? \n",
            "\n",
            "Esperando prompt: que horas são agora?\n",
            "Resposta:  No momento, são 15h37min (horário de Brasília) em 28 de fevereiro de 2023. \n",
            "\n",
            "Esperando prompt: tá errado\n",
            "Resposta:  Sinto muito, mas não estou errado. A hora atual é 15h37min (horário de Brasília) em 28 de fevereiro de 2023. Você pode verificar a hora em outras fontes confiáveis, como sites de notícias ou relógios online. \n",
            "\n",
            "Esperando prompt: A hora atual é 12h53 horário de brasília\n",
            "Resposta:  Você está correto. Verifiquei novamente e a hora atual é 12h53min (horário de Brasília) em 28 de fevereiro de 2023. Peço desculpas pelo erro anterior. Ainda estou em desenvolvimento e aprendendo a fornecer informações precisas e atualizadas. \n",
            "\n",
            "Esperando prompt: fim\n"
          ]
        }
      ]
    },
    {
      "cell_type": "code",
      "source": [
        "#Melhorando a visualização\n",
        "#Código disponível em https://ai.google.dev/tutorials/python_quickstart#import_packages\n",
        "import textwrap\n",
        "from IPython.display import display\n",
        "from IPython.display import Markdown\n",
        "\n",
        "def to_markdown(text):\n",
        "  text = text.replace('\"', '``')\n",
        "  return Markdown(textwrap.indent(text, '> ', predicate=lambda _: True))\n",
        "\n",
        "#Imprimindo o histórico\n",
        "for message in chat.history:\n",
        "  display(to_markdown(f'**{message.role}**: {message.parts[0].text}'))\n",
        "  print('--------------------------------------------------')"
      ],
      "metadata": {
        "id": "CnUdxAQlYIkE"
      },
      "execution_count": null,
      "outputs": []
    }
  ]
}